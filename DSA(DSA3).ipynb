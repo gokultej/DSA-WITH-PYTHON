{
  "nbformat": 4,
  "nbformat_minor": 0,
  "metadata": {
    "colab": {
      "provenance": [],
      "authorship_tag": "ABX9TyMg2DMTlukenF/j5i+f1N6O",
      "include_colab_link": true
    },
    "kernelspec": {
      "name": "python3",
      "display_name": "Python 3"
    },
    "language_info": {
      "name": "python"
    }
  },
  "cells": [
    {
      "cell_type": "markdown",
      "metadata": {
        "id": "view-in-github",
        "colab_type": "text"
      },
      "source": [
        "<a href=\"https://colab.research.google.com/github/gokultej/DSA-WITH-PYTHON/blob/main/DSA(DSA3).ipynb\" target=\"_parent\"><img src=\"https://colab.research.google.com/assets/colab-badge.svg\" alt=\"Open In Colab\"/></a>"
      ]
    },
    {
      "cell_type": "markdown",
      "source": [
        "python in built functions"
      ],
      "metadata": {
        "id": "bkcGTww5NFIn"
      }
    },
    {
      "cell_type": "code",
      "source": [
        "person =\"gokul teja\"\n",
        "convert = lambda x:x.upper()\n",
        "print(convert(person))"
      ],
      "metadata": {
        "colab": {
          "base_uri": "https://localhost:8080/"
        },
        "id": "k_pxIAyDNI20",
        "outputId": "bd14bd73-8f7b-4c17-c551-9787549962a0"
      },
      "execution_count": 3,
      "outputs": [
        {
          "output_type": "stream",
          "name": "stdout",
          "text": [
            "GOKUL TEJA\n"
          ]
        }
      ]
    },
    {
      "cell_type": "code",
      "source": [
        "n= lambda x: \"Positive\" if x>0 else \"Negative\" if x<0 else \"Zero\"\n",
        "\n",
        "print(n(5))\n",
        "print(n(-3))"
      ],
      "metadata": {
        "colab": {
          "base_uri": "https://localhost:8080/"
        },
        "id": "Sj_LY5-fNd31",
        "outputId": "0b80dc26-8f40-4bc0-fbf9-e4828bccb0fb"
      },
      "execution_count": 4,
      "outputs": [
        {
          "output_type": "stream",
          "name": "stdout",
          "text": [
            "Positive\n",
            "Negative\n"
          ]
        }
      ]
    },
    {
      "cell_type": "code",
      "source": [
        "li = [lambda arg=x:arg*10 for x in range(1,5)]\n",
        "\n",
        "print(li)\n",
        "\n",
        "for i in li:\n",
        "  print(i())"
      ],
      "metadata": {
        "colab": {
          "base_uri": "https://localhost:8080/"
        },
        "id": "u4oVigXMOp8_",
        "outputId": "4df3ecea-eb98-4e16-9b17-39005c61c04a"
      },
      "execution_count": 6,
      "outputs": [
        {
          "output_type": "stream",
          "name": "stdout",
          "text": [
            "[<function <listcomp>.<lambda> at 0x7efe402212d0>, <function <listcomp>.<lambda> at 0x7efe40221480>, <function <listcomp>.<lambda> at 0x7efe40221ab0>, <function <listcomp>.<lambda> at 0x7efe40221630>]\n",
            "10\n",
            "20\n",
            "30\n",
            "40\n"
          ]
        }
      ]
    },
    {
      "cell_type": "code",
      "source": [
        "#even or odd\n",
        "check = lambda x: \"Even\" if x%2==0 else \"odd\"\n",
        "\n",
        "print(check(4))\n",
        "print(check(7))"
      ],
      "metadata": {
        "colab": {
          "base_uri": "https://localhost:8080/"
        },
        "id": "f11QL5ObRDGg",
        "outputId": "a86620aa-fa96-412f-bd23-9fe771971eab"
      },
      "execution_count": 9,
      "outputs": [
        {
          "output_type": "stream",
          "name": "stdout",
          "text": [
            "Even\n",
            "odd\n"
          ]
        }
      ]
    },
    {
      "cell_type": "code",
      "source": [
        "#Filter Function"
      ],
      "metadata": {
        "id": "hfFD4Dh8Sn5g"
      },
      "execution_count": 10,
      "outputs": []
    },
    {
      "cell_type": "code",
      "source": [
        "def even(n):\n",
        "    return n%2==0\n",
        "\n",
        "a=[1,2,35,65354,2343]\n",
        "b=filter(even,a)\n",
        "\n",
        "print(list(b))"
      ],
      "metadata": {
        "colab": {
          "base_uri": "https://localhost:8080/"
        },
        "id": "z8x1Q9KiSj-e",
        "outputId": "0ee418f5-c695-4974-e506-b8d151e6dd9b"
      },
      "execution_count": 13,
      "outputs": [
        {
          "output_type": "stream",
          "name": "stdout",
          "text": [
            "[2, 65354]\n"
          ]
        }
      ]
    },
    {
      "cell_type": "code",
      "source": [
        "a=[1,2,3,4,5,6]\n",
        "b=filter(lambda x:x%2 ==0,a)\n",
        "c= map(lambda x:x*2,b)\n",
        "print(list(c))"
      ],
      "metadata": {
        "colab": {
          "base_uri": "https://localhost:8080/"
        },
        "id": "kaF4pc3uUK07",
        "outputId": "35cecee2-b8f1-4ac3-bf39-3fedc0c50630"
      },
      "execution_count": 15,
      "outputs": [
        {
          "output_type": "stream",
          "name": "stdout",
          "text": [
            "[4, 8, 12]\n"
          ]
        }
      ]
    },
    {
      "cell_type": "markdown",
      "source": [
        "MAP Function"
      ],
      "metadata": {
        "id": "MDPDU_qEYFbU"
      }
    },
    {
      "cell_type": "code",
      "source": [
        "s = ['1', '2', '3', '4']\n",
        "res = map(int, s)\n",
        "print(list(res))"
      ],
      "metadata": {
        "colab": {
          "base_uri": "https://localhost:8080/"
        },
        "id": "uGZ2NuevU84e",
        "outputId": "0daa8f72-3d55-4bc4-bfe7-8b91c407ae86"
      },
      "execution_count": 16,
      "outputs": [
        {
          "output_type": "stream",
          "name": "stdout",
          "text": [
            "[1, 2, 3, 4]\n"
          ]
        }
      ]
    },
    {
      "cell_type": "code",
      "source": [
        "#reduce function\n",
        "\n",
        "from functools import reduce\n",
        "a=[1,2,3,4,5]\n",
        "\n",
        "res=reduce(lambda x,y :x+y,a)\n",
        "print(res)"
      ],
      "metadata": {
        "colab": {
          "base_uri": "https://localhost:8080/"
        },
        "id": "_aJe3c6hYRZa",
        "outputId": "346a1416-40ab-4dc2-e29b-d61b98d1c034"
      },
      "execution_count": 17,
      "outputs": [
        {
          "output_type": "stream",
          "name": "stdout",
          "text": [
            "15\n"
          ]
        }
      ]
    },
    {
      "cell_type": "code",
      "source": [
        "import functools\n",
        "import operator\n",
        "a=[2,3,4,5,6]\n",
        "\n",
        "b=functools.reduce(operator.add,a)\n",
        "print(b)"
      ],
      "metadata": {
        "colab": {
          "base_uri": "https://localhost:8080/"
        },
        "id": "TIQfL3SwbU20",
        "outputId": "4f2167ad-384e-473a-c373-36ea528cd558"
      },
      "execution_count": 18,
      "outputs": [
        {
          "output_type": "stream",
          "name": "stdout",
          "text": [
            "20\n"
          ]
        }
      ]
    },
    {
      "cell_type": "code",
      "source": [
        "#inner function\n",
        "\n",
        "def f1():\n",
        "  s=[\"i love myself\"]\n",
        "\n",
        "  def f2():\n",
        "    s[0]=\"mee too\"\n",
        "    print(s)\n",
        "\n",
        "  f2()\n",
        "  print(s)\n",
        "\n",
        "\n",
        "f1()"
      ],
      "metadata": {
        "colab": {
          "base_uri": "https://localhost:8080/"
        },
        "id": "KTBVrGNweGw_",
        "outputId": "cfb33f38-73bb-4450-b2c7-be448cda8b65"
      },
      "execution_count": 20,
      "outputs": [
        {
          "output_type": "stream",
          "name": "stdout",
          "text": [
            "['mee too']\n",
            "['mee too']\n"
          ]
        }
      ]
    },
    {
      "cell_type": "code",
      "source": [
        "def f1():\n",
        "  f1.s='i love myself'\n",
        "\n",
        "  def f2():\n",
        "    f1.s='me too'\n",
        "    print(f1.s)\n",
        "\n",
        "  f2()\n",
        "  print(f1.s)\n",
        "f1()"
      ],
      "metadata": {
        "colab": {
          "base_uri": "https://localhost:8080/"
        },
        "id": "CKj7ZEF1jLq9",
        "outputId": "613cbad2-078c-4d00-88fa-1b4fc21d1980"
      },
      "execution_count": 26,
      "outputs": [
        {
          "output_type": "stream",
          "name": "stdout",
          "text": [
            "me too\n",
            "me too\n"
          ]
        }
      ]
    },
    {
      "cell_type": "code",
      "source": [
        "#decorator\n",
        "\n",
        "\n",
        "# Define a decorator\n",
        "def greet_decorator(func):\n",
        "    def wrapper():\n",
        "        print(\"Hello!\")\n",
        "        func()\n",
        "        print(\"Goodbye!\")\n",
        "    return wrapper\n",
        "\n",
        "# Apply the decorator to a function\n",
        "@greet_decorator\n",
        "def say_name():\n",
        "    print(\"My name is Gokul teja.\")\n",
        "\n",
        "# Call the decorated function\n",
        "say_name()"
      ],
      "metadata": {
        "colab": {
          "base_uri": "https://localhost:8080/"
        },
        "id": "ezpZK89ik6Lk",
        "outputId": "919be304-585d-4f9c-ed4a-d4d8015a3f48"
      },
      "execution_count": 27,
      "outputs": [
        {
          "output_type": "stream",
          "name": "stdout",
          "text": [
            "Hello!\n",
            "My name is Gokul teja.\n",
            "Goodbye!\n"
          ]
        }
      ]
    },
    {
      "cell_type": "code",
      "source": [],
      "metadata": {
        "id": "SKcgRcVxjHEy"
      },
      "execution_count": null,
      "outputs": []
    },
    {
      "cell_type": "code",
      "source": [],
      "metadata": {
        "id": "OX60JsynU10E"
      },
      "execution_count": null,
      "outputs": []
    },
    {
      "cell_type": "code",
      "source": [],
      "metadata": {
        "id": "MLVN3ezGUHk1"
      },
      "execution_count": null,
      "outputs": []
    },
    {
      "cell_type": "code",
      "source": [],
      "metadata": {
        "id": "TR7qRaA3ShKl"
      },
      "execution_count": null,
      "outputs": []
    },
    {
      "cell_type": "code",
      "source": [],
      "metadata": {
        "id": "PSOwwiKbNLEg"
      },
      "execution_count": null,
      "outputs": []
    }
  ]
}