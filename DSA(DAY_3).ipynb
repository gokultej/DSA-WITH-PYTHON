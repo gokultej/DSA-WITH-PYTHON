{
  "nbformat": 4,
  "nbformat_minor": 0,
  "metadata": {
    "colab": {
      "provenance": [],
      "include_colab_link": true
    },
    "kernelspec": {
      "name": "python3",
      "display_name": "Python 3"
    },
    "language_info": {
      "name": "python"
    }
  },
  "cells": [
    {
      "cell_type": "markdown",
      "metadata": {
        "id": "view-in-github",
        "colab_type": "text"
      },
      "source": [
        "<a href=\"https://colab.research.google.com/github/gokultej/DSA-WITH-PYTHON/blob/main/DSA(DAY_3).ipynb\" target=\"_parent\"><img src=\"https://colab.research.google.com/assets/colab-badge.svg\" alt=\"Open In Colab\"/></a>"
      ]
    },
    {
      "cell_type": "code",
      "execution_count": null,
      "metadata": {
        "id": "0MfItBynYFov"
      },
      "outputs": [],
      "source": []
    },
    {
      "cell_type": "markdown",
      "source": [
        "**CLASSES AND OBJECTS**:\n",
        "(a class type refers to the type of object that a class creates. It defines the structure and behavior of objects instantiated from that class.)"
      ],
      "metadata": {
        "id": "FONK6dADYRX5"
      }
    },
    {
      "cell_type": "code",
      "source": [
        "# CREATE A CLASS WITH OBJ AND ATTRIBUTE\n",
        "class Person:\n",
        "  name= \"VISHNU PRIYA\"\n",
        "\n",
        "# person object cration\n",
        "p1=Person()\n",
        "# syntax = object.attname to access it.\n",
        "p= p1.name\n",
        "\n",
        "print(p)"
      ],
      "metadata": {
        "colab": {
          "base_uri": "https://localhost:8080/"
        },
        "id": "yH271fGZY1Ug",
        "outputId": "c62f3a01-009f-41c9-a903-cb422820584d"
      },
      "execution_count": null,
      "outputs": [
        {
          "output_type": "stream",
          "name": "stdout",
          "text": [
            "VISHNU PRIYA\n"
          ]
        }
      ]
    },
    {
      "cell_type": "markdown",
      "source": [],
      "metadata": {
        "id": "TYxSoHXVebSh"
      }
    },
    {
      "cell_type": "markdown",
      "source": [
        "**__init__() function: It automatically initializes object attributes when an object is created**\n",
        "\n",
        "self parameter is a reference to the current instance of the class. It allows us to access the attributes and methods of the object."
      ],
      "metadata": {
        "id": "cph1pnW4ZqAy"
      }
    },
    {
      "cell_type": "code",
      "source": [
        "class Person:\n",
        "  def __init__(self,name,age):\n",
        "    self.age=age\n",
        "    self.name=name\n",
        "pi=Person(\"VISHNU PRIYA\",21)\n",
        "px=\n",
        "print(pi.name)\n",
        "print(pi.age)"
      ],
      "metadata": {
        "colab": {
          "base_uri": "https://localhost:8080/"
        },
        "id": "RRcWs4qXZPRI",
        "outputId": "c4c6b87f-1e95-4ca8-c929-095fb6a04d44"
      },
      "execution_count": null,
      "outputs": [
        {
          "output_type": "stream",
          "name": "stdout",
          "text": [
            "VISHNU PRIYA\n",
            "21\n"
          ]
        }
      ]
    },
    {
      "cell_type": "markdown",
      "source": [
        "_**_str__ Method**\n",
        "__str__ method in Python allows us to define a custom string representation of an object. By default, when we print an object or convert it to a string using str(), Python uses the default implementation, which returns a string like <__main__.ClassName object at 0x00000123>."
      ],
      "metadata": {
        "id": "IPARnNJAbTNb"
      }
    },
    {
      "cell_type": "code",
      "source": [
        "class Person:\n",
        "  def __init__(self,name,age):\n",
        "    self.age=age\n",
        "    self.name=name\n",
        "  def __str__(self):\n",
        "    return f\"{self.name} is {self.age} years old.\"\n",
        "pi=Person(\"VISHNU PRIYA\",21)\n",
        "p2=Person(\"GOKU\",21)\n",
        "print(pi.name)\n",
        "print(pi.age)\n",
        "print(p2)\n",
        "print(pi)"
      ],
      "metadata": {
        "colab": {
          "base_uri": "https://localhost:8080/"
        },
        "id": "Ejjksr25aQI4",
        "outputId": "192082a1-a692-43f1-9ae5-28655db68157"
      },
      "execution_count": null,
      "outputs": [
        {
          "output_type": "stream",
          "name": "stdout",
          "text": [
            "VISHNU PRIYA\n",
            "21\n",
            "<__main__.Person object at 0x7e950e6e6650>\n",
            "<__main__.Person object at 0x7e950e6e7640>\n"
          ]
        }
      ]
    },
    {
      "cell_type": "code",
      "source": [
        "# class variables and instance variables\n",
        "class Person:\n",
        "  student = \"CSE\"\n",
        "  def __init__(self,name,age):\n",
        "    self.age=age\n",
        "    self.name=name\n",
        "  def __str__(self):\n",
        "    return f\"{self.name} is {self.age} years old. and belongs to {self.student} branch\"\n",
        "  def change(self):\n",
        "    self.student=\"ECE\"\n",
        "    return self.student\n",
        "pi=Person(\"VISHNU PRIYA\",21)\n",
        "print(pi.student)\n",
        "print(pi)"
      ],
      "metadata": {
        "colab": {
          "base_uri": "https://localhost:8080/"
        },
        "id": "hh58ZsK9b7yF",
        "outputId": "331c2e90-1066-4152-f945-4f8b4a6ba583"
      },
      "execution_count": null,
      "outputs": [
        {
          "output_type": "stream",
          "name": "stdout",
          "text": [
            "CSE\n",
            "VISHNU PRIYA is 21 years old. and belongs to CSE branch\n"
          ]
        }
      ]
    },
    {
      "cell_type": "code",
      "source": [],
      "metadata": {
        "id": "Xf-lZlmNdR3q"
      },
      "execution_count": null,
      "outputs": []
    },
    {
      "cell_type": "markdown",
      "source": [
        "**POLYMORPHISM** : Polymorphism is a foundational concept in programming that allows entities like functions, methods or operators to behave differently based on the type of data they are handling"
      ],
      "metadata": {
        "id": "K9UF5qkreebN"
      }
    },
    {
      "cell_type": "markdown",
      "source": [
        "**Polymorphism in Functions**:USE DUCK TYPPING(we dont check the data types and\n",
        "\n",
        "*   List item\n",
        "*   List item\n",
        "\n",
        "simply perform the functions)"
      ],
      "metadata": {
        "id": "DgL8FoYUfB3_"
      }
    },
    {
      "cell_type": "code",
      "source": [
        "def sub(a,b):\n",
        "  return a+b\n",
        "print(sub(1,2))\n",
        "print(sub(\"VISHNU\",\"PRIYA\"))"
      ],
      "metadata": {
        "colab": {
          "base_uri": "https://localhost:8080/"
        },
        "id": "5KUZ5-M7fOZ-",
        "outputId": "84befe64-e315-4c69-e237-64579a88fda1"
      },
      "execution_count": null,
      "outputs": [
        {
          "output_type": "stream",
          "name": "stdout",
          "text": [
            "3\n",
            "VISHNUPRIYA\n"
          ]
        }
      ]
    },
    {
      "cell_type": "markdown",
      "source": [
        "**Polymorphism in Operators**operators like + behave polymorphically, performing addition, concatenation or merging based on the data type."
      ],
      "metadata": {
        "id": "JhyA3YHUfrg8"
      }
    },
    {
      "cell_type": "code",
      "source": [
        "print(5 + 10)  # Integer addition\n",
        "print(\"Hello \" + \"World!\")  # String concatenation\n",
        "print([1, 2] + [3, 4])  # List concatenation"
      ],
      "metadata": {
        "colab": {
          "base_uri": "https://localhost:8080/"
        },
        "id": "djpwy2iVf1MX",
        "outputId": "d5c3bca2-1182-4953-b2ab-4ad539d5add3"
      },
      "execution_count": null,
      "outputs": [
        {
          "output_type": "stream",
          "name": "stdout",
          "text": [
            "15\n",
            "Hello World!\n",
            "[1, 2, 3, 4]\n"
          ]
        }
      ]
    },
    {
      "cell_type": "markdown",
      "source": [
        "**Polymorphism in OOPs** allows methods in different classes to share the same name but perform distinct tasks. This is achieved through inheritance and interface design. Polymorphism complements other OOP principles like inheritance (sharing behavior) and encapsulation (hiding complexity) to create robust and modular applications."
      ],
      "metadata": {
        "id": "1RPUrzXgf8yZ"
      }
    },
    {
      "cell_type": "code",
      "source": [
        "\n",
        "class Shape:\n",
        "    def area(self):\n",
        "        return \"Undefined\"\n",
        "\n",
        "class Rectangle(Shape):\n",
        "    def __init__(self, length, width):\n",
        "        self.length = length\n",
        "        self.width = width\n",
        "\n",
        "    def area(self):\n",
        "        return self.length * self.width\n",
        "\n",
        "class Circle(Shape):\n",
        "    def __init__(self, radius):\n",
        "        self.radius = radius\n",
        "\n",
        "    def area(self):\n",
        "        return 3.14 * self.radius ** 2\n",
        "class Cube(Shape):\n",
        "    def __init__(self,side):\n",
        "      self.side=side\n",
        "    def area(self):\n",
        "      return 6*self.side*self.side\n",
        "\n",
        "shapes = [Rectangle(2, 3), Circle(5),Cube(6)]\n",
        "for shape in shapes:\n",
        "    print(f\"Area: {shape.area()}\")"
      ],
      "metadata": {
        "colab": {
          "base_uri": "https://localhost:8080/"
        },
        "id": "Z9ZxojSkgBJu",
        "outputId": "4e3fc882-fcd1-4a40-cef9-eaf54786547e"
      },
      "execution_count": null,
      "outputs": [
        {
          "output_type": "stream",
          "name": "stdout",
          "text": [
            "Area: 6\n",
            "Area: 78.5\n",
            "Area: 216\n"
          ]
        }
      ]
    },
    {
      "cell_type": "code",
      "source": [
        "class Animal:\n",
        "    def speak(self):\n",
        "        print(\"The animal makes a sound.\")\n",
        "\n",
        "# Child class\n",
        "class Dog(Animal):\n",
        "    # Overriding the speak method\n",
        "    def speak(self):\n",
        "        print(\"The dog barks.\")\n",
        "\n",
        "# Child class\n",
        "class Cat(Animal):\n",
        "    # Overriding the speak method\n",
        "    def speak(self):\n",
        "        print(\"The cat meows.\")\n",
        "\n",
        "# Create objects\n",
        "animal = Animal()\n",
        "dog = Dog()\n",
        "cat = Cat()\n",
        "\n",
        "# Call the speak method on each object\n",
        "animal.speak()  # Output: The animal makes a sound.\n",
        "dog.speak()     # Output: The dog barks.\n",
        "cat.speak()     # Output: The cat meows."
      ],
      "metadata": {
        "id": "utOLfWLmiaix",
        "colab": {
          "base_uri": "https://localhost:8080/"
        },
        "outputId": "92fa45a5-4a50-4bda-b350-bf97b7fd7ec4"
      },
      "execution_count": null,
      "outputs": [
        {
          "output_type": "stream",
          "name": "stdout",
          "text": [
            "The animal makes a sound.\n",
            "The dog barks.\n",
            "The cat meows.\n"
          ]
        }
      ]
    },
    {
      "cell_type": "markdown",
      "source": [
        "**TYPES OF POLYMORPHISM:**\n",
        "** method overloading** (COMPLIE TIME) and operator overloading, where multiple functions or operators can share the same name but perform different tasks based on the context.\n",
        " ** method overriding:**(RUN TIME) a child class can redefine a method from its parent class to provide its own specific implementation"
      ],
      "metadata": {
        "id": "qKNmIXapkKib"
      }
    },
    {
      "cell_type": "markdown",
      "source": [],
      "metadata": {
        "id": "ztEwT6fxj5WB"
      }
    },
    {
      "cell_type": "code",
      "source": [
        "class Animal:\n",
        "  def sound(self):\n",
        "    return \"SOUNDS\"\n",
        "class Duck(Animal):\n",
        "  def sound(self):\n",
        "    return (\"QUAK\")\n",
        "class Cat(Animal):\n",
        "  def sound(self):\n",
        "    return \"MEOW\"\n",
        "\n",
        "animals=[Duck(),Cat()]\n",
        "for i in animals:\n",
        "  print(i.sound())"
      ],
      "metadata": {
        "colab": {
          "base_uri": "https://localhost:8080/"
        },
        "id": "OMtcCgCXkR1O",
        "outputId": "bb865629-3cbd-4a23-bd0a-8dab25320064"
      },
      "execution_count": null,
      "outputs": [
        {
          "output_type": "stream",
          "name": "stdout",
          "text": [
            "QUAK\n",
            "MEOW\n"
          ]
        }
      ]
    },
    {
      "cell_type": "code",
      "source": [
        "class Calculator:\n",
        "    # Overloading the add method using default arguments\n",
        "    def add(self, a, b=0, c=0):\n",
        "        return a + b + c\n",
        "\n",
        "# Create an object of Calculator\n",
        "calc = Calculator()\n",
        "\n",
        "# Call the add method with different numbers of arguments\n",
        "print(calc.add(5))        # Output: 5 (only 'a' is provided)\n",
        "print(calc.add(5, 10))    # Output: 15 (sum of 'a' and 'b')\n",
        "print(calc.add(5, 10, 20))  # Output: 35 (sum of 'a', 'b', and 'c')"
      ],
      "metadata": {
        "id": "NZZZsWPRlOFO",
        "colab": {
          "base_uri": "https://localhost:8080/"
        },
        "outputId": "4d9b26ff-89e4-459e-e3fd-cffc9643f670"
      },
      "execution_count": null,
      "outputs": [
        {
          "output_type": "stream",
          "name": "stdout",
          "text": [
            "5\n",
            "15\n",
            "35\n"
          ]
        }
      ]
    },
    {
      "cell_type": "markdown",
      "source": [
        "**Inheritance** is a fundamental concept in object-oriented programming (OOP) that allows a class (called a child or derived class) to inherit attributes and methods from another class (called a parent or base class). This promotes code reuse, modularity, and a hierarchical class structure"
      ],
      "metadata": {
        "id": "VfBNpxYplz6C"
      }
    },
    {
      "cell_type": "code",
      "source": [
        "class Animal:\n",
        "  def __init__(self,name):\n",
        "    self.name= name\n",
        "\n",
        "  def sound(self):\n",
        "    pass\n",
        "class Dog(Animal):\n",
        "  def speak(Self):\n",
        "    return f\"{self.name} barks\"\n",
        "dog = Dog(\"Buddy\")\n",
        "print(dog.sound())\n"
      ],
      "metadata": {
        "colab": {
          "base_uri": "https://localhost:8080/"
        },
        "id": "cMS_mDWWmIBu",
        "outputId": "50e30b8d-a958-496d-f35c-a1734df95c6a"
      },
      "execution_count": null,
      "outputs": [
        {
          "output_type": "stream",
          "name": "stdout",
          "text": [
            "None\n"
          ]
        }
      ]
    },
    {
      "cell_type": "code",
      "source": [],
      "metadata": {
        "id": "4aZkkSyTj6sZ"
      },
      "execution_count": null,
      "outputs": []
    },
    {
      "cell_type": "code",
      "source": [
        "s=10\n",
        "s=15\n",
        "print(s)\n"
      ],
      "metadata": {
        "id": "PX0EEJzNn4M-",
        "colab": {
          "base_uri": "https://localhost:8080/"
        },
        "outputId": "3fef6cae-1438-4e1c-94ee-79d93f3a13ee"
      },
      "execution_count": null,
      "outputs": [
        {
          "output_type": "stream",
          "name": "stdout",
          "text": [
            "15\n"
          ]
        }
      ]
    },
    {
      "cell_type": "code",
      "source": [],
      "metadata": {
        "id": "lispesFmifut"
      },
      "execution_count": null,
      "outputs": []
    }
  ]
}