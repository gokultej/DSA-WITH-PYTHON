{
  "nbformat": 4,
  "nbformat_minor": 0,
  "metadata": {
    "colab": {
      "provenance": [],
      "authorship_tag": "ABX9TyMCw4TOILhvlMMpKl1jU/DC",
      "include_colab_link": true
    },
    "kernelspec": {
      "name": "python3",
      "display_name": "Python 3"
    },
    "language_info": {
      "name": "python"
    }
  },
  "cells": [
    {
      "cell_type": "markdown",
      "metadata": {
        "id": "view-in-github",
        "colab_type": "text"
      },
      "source": [
        "<a href=\"https://colab.research.google.com/github/gokultej/DSA-WITH-PYTHON/blob/main/DSA(DAY1).ipynb\" target=\"_parent\"><img src=\"https://colab.research.google.com/assets/colab-badge.svg\" alt=\"Open In Colab\"/></a>"
      ]
    },
    {
      "cell_type": "code",
      "execution_count": null,
      "metadata": {
        "id": "lgJUnHoukIAI"
      },
      "outputs": [],
      "source": [
        "class Person:\n",
        "  def __init__(self,name):\n",
        "    self.name = name\n",
        "\n",
        "  def say(self):\n",
        "    print(\"Hello my name\",self.name)\n",
        "\n",
        "P = Person(\"gokul bolte\")\n",
        "p.say()"
      ]
    },
    {
      "cell_type": "markdown",
      "source": [
        "Day 1"
      ],
      "metadata": {
        "id": "nIi-5pNClT2U"
      }
    },
    {
      "cell_type": "markdown",
      "source": [
        "Use of pass Statement in Function"
      ],
      "metadata": {
        "id": "F1UvCamYlokx"
      }
    },
    {
      "cell_type": "code",
      "source": [
        "def say():\n",
        "  pass\n",
        "\n",
        "say()"
      ],
      "metadata": {
        "id": "RdwtrPfTlpv9"
      },
      "execution_count": null,
      "outputs": []
    },
    {
      "cell_type": "markdown",
      "source": [
        "Return statement"
      ],
      "metadata": {
        "id": "P1Rz3kzfmIa3"
      }
    },
    {
      "cell_type": "code",
      "source": [
        "\n",
        "\n",
        "0 1 1 2 3 5  8 13 21\n",
        "\n",
        "\n",
        "\n",
        "\n",
        "\n",
        "\n",
        "def fibo(n):\n",
        "  a=0\n",
        "  b=1\n",
        "  c=0\n",
        "\n",
        "\n",
        "\n",
        "  for i in range(2,n+1):\n",
        "    c= a+b\n",
        "\n",
        "    a=b\n",
        "    b=c\n",
        "\n",
        "  return c\n",
        "r=fibo(4)\n",
        "print(r)\n",
        "\n"
      ],
      "metadata": {
        "colab": {
          "base_uri": "https://localhost:8080/"
        },
        "id": "oxkpIDoOmJfR",
        "outputId": "5812aaa1-884b-442a-fa0a-03b109a0fd19"
      },
      "execution_count": null,
      "outputs": [
        {
          "output_type": "stream",
          "name": "stdout",
          "text": [
            "3\n"
          ]
        }
      ]
    },
    {
      "cell_type": "code",
      "source": [
        "def nth_fibonacci(n):\n",
        "    if n <= 1:\n",
        "        return n\n",
        "\n",
        "    # To store the curr Fibonacci number\n",
        "    curr = 0\n",
        "\n",
        "    # To store the previous Fibonacci numbers\n",
        "    prev1 = 1\n",
        "    prev2 = 0\n",
        "\n",
        "    # Loop to calculate Fibonacci numbers from 2 to n\n",
        "    for i in range(2, n + 1):\n",
        "\n",
        "        # Calculate the curr Fibonacci number\n",
        "        curr = prev1 + prev2\n",
        "\n",
        "        # Update prev2 to the last Fibonacci number\n",
        "        prev2 = prev1\n",
        "\n",
        "        # Update prev1 to the curr Fibonacci number\n",
        "        prev1 = curr\n",
        "\n",
        "    return curr\n",
        "\n",
        "n = 5\n",
        "result = nth_fibonacci(n)\n",
        "print(result)"
      ],
      "metadata": {
        "id": "gvVyBqsaprhT",
        "outputId": "18905f31-5c65-4ecd-d6fa-ae7c08904405",
        "colab": {
          "base_uri": "https://localhost:8080/"
        }
      },
      "execution_count": null,
      "outputs": [
        {
          "output_type": "stream",
          "name": "stdout",
          "text": [
            "5\n"
          ]
        }
      ]
    }
  ]
}